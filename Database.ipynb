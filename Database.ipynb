{
 "cells": [
  {
   "cell_type": "markdown",
   "id": "4eb21f27-d9ae-4ca8-bc49-e1885e1442ec",
   "metadata": {},
   "source": [
    "# Database"
   ]
  },
  {
   "cell_type": "markdown",
   "id": "a025ef1a-f0f0-402c-8444-a94848e9fdec",
   "metadata": {},
   "source": [
    "## Importing important package:"
   ]
  },
  {
   "cell_type": "code",
   "execution_count": 1,
   "id": "4c485d8b-ba39-43df-8f45-fdd1816945a2",
   "metadata": {},
   "outputs": [],
   "source": [
    "import pandas as pd\n",
    "import sqlite3"
   ]
  },
  {
   "cell_type": "markdown",
   "id": "01dd5f22-6098-4065-820c-767be957c3c6",
   "metadata": {},
   "source": [
    "## Functions:"
   ]
  },
  {
   "cell_type": "code",
   "execution_count": 2,
   "id": "3bb130c0-f1d3-4c3c-9716-6edeee768484",
   "metadata": {},
   "outputs": [],
   "source": [
    "def dataframeVisual(rows):\n",
    "    return pd.DataFrame(rows)\n",
    "\n",
    "def dataframeSave(rows):\n",
    "    df = dataframeVisual(rows)\n",
    "    df.to_csv('new_data.csv', index=False, encoding='utf-8-sig')"
   ]
  },
  {
   "cell_type": "markdown",
   "id": "cf57afa1-d998-4455-8fbb-ae1ac8f848fe",
   "metadata": {},
   "source": [
    "## Importing dataframe"
   ]
  },
  {
   "cell_type": "code",
   "execution_count": 3,
   "id": "7aa9b1fa-671b-4b3a-b9f1-c0a9b6122cb6",
   "metadata": {},
   "outputs": [],
   "source": [
    "df1 = pd.read_csv(\"hotel_new.csv\")\n",
    "df2 = pd.read_csv(\"output_merged.csv\")\n",
    "df3 = pd.read_csv(\"df_type.csv\")"
   ]
  },
  {
   "cell_type": "markdown",
   "id": "8e71fd60-1b9f-402a-a4a8-90efce25eea9",
   "metadata": {},
   "source": [
    "## Importing database"
   ]
  },
  {
   "cell_type": "code",
   "execution_count": 4,
   "id": "9d647705-7ef6-4a23-9ce2-53bd42bd729b",
   "metadata": {},
   "outputs": [],
   "source": [
    "# Connect to the database (or create it if it doesn't exist)\n",
    "conn = sqlite3.connect('vietnam.db')\n",
    "\n",
    "# Write the DataFrame to the database\n",
    "df1.to_sql('Hotel', conn, if_exists='replace', index=False)\n",
    "df2.to_sql('HotelReviews', conn, if_exists='replace', index=False)\n",
    "df3.to_sql('AccommodationType', conn, if_exists='replace', index=False)\n",
    "\n",
    "# Commit changes to the database\n",
    "conn.commit()\n",
    "\n",
    "# Close the connection\n",
    "conn.close()\n"
   ]
  },
  {
   "cell_type": "markdown",
   "id": "ee93b38f-2ffe-46e4-8281-f204bc29631a",
   "metadata": {},
   "source": [
    "## Join database table "
   ]
  },
  {
   "cell_type": "code",
   "execution_count": 5,
   "id": "0e1c87aa-947e-4a26-b759-0bbbb73c7cf1",
   "metadata": {},
   "outputs": [],
   "source": [
    "# Connect to the database\n",
    "conn = sqlite3.connect('vietnam.db')\n",
    "\n",
    "# Create a cursor object to execute SQL queries\n",
    "cur = conn.cursor()\n",
    "\n",
    "# Execute a query to retrieve the table schema\n",
    "res  =  cur.execute(\"\"\"\n",
    "SELECT * FROM Hotel \n",
    "JOIN HotelReviews ON Hotel.hotel_id = HotelReviews.hotel_id\n",
    "JOIN AccommodationType ON Hotel.hotel_id = AccommodationType.hotel_id\n",
    "\"\"\")\n",
    "\n",
    "# Fetch all rows from the query result\n",
    "rows = res.fetchall()\n",
    "dataframeSave(rows)\n",
    "# Close the cursor and the connection\n",
    "cur.close()\n",
    "conn.close()"
   ]
  },
  {
   "cell_type": "code",
   "execution_count": 6,
   "id": "cbd6b822-b995-4c84-a389-13a32fcad61e",
   "metadata": {},
   "outputs": [
    {
     "data": {
      "text/plain": [
       "(286814, 29)"
      ]
     },
     "execution_count": 6,
     "metadata": {},
     "output_type": "execute_result"
    }
   ],
   "source": [
    "df = dataframeVisual(rows)\n",
    "df.shape"
   ]
  },
  {
   "cell_type": "code",
   "execution_count": 7,
   "id": "00fc5929-c0c0-45ca-80ce-61369befdaf8",
   "metadata": {},
   "outputs": [
    {
     "data": {
      "text/html": [
       "<div>\n",
       "<style scoped>\n",
       "    .dataframe tbody tr th:only-of-type {\n",
       "        vertical-align: middle;\n",
       "    }\n",
       "\n",
       "    .dataframe tbody tr th {\n",
       "        vertical-align: top;\n",
       "    }\n",
       "\n",
       "    .dataframe thead th {\n",
       "        text-align: right;\n",
       "    }\n",
       "</style>\n",
       "<table border=\"1\" class=\"dataframe\">\n",
       "  <thead>\n",
       "    <tr style=\"text-align: right;\">\n",
       "      <th></th>\n",
       "      <th>0</th>\n",
       "      <th>1</th>\n",
       "      <th>2</th>\n",
       "      <th>3</th>\n",
       "      <th>4</th>\n",
       "      <th>5</th>\n",
       "      <th>6</th>\n",
       "      <th>7</th>\n",
       "      <th>8</th>\n",
       "      <th>9</th>\n",
       "      <th>...</th>\n",
       "      <th>19</th>\n",
       "      <th>20</th>\n",
       "      <th>21</th>\n",
       "      <th>22</th>\n",
       "      <th>23</th>\n",
       "      <th>24</th>\n",
       "      <th>25</th>\n",
       "      <th>26</th>\n",
       "      <th>27</th>\n",
       "      <th>28</th>\n",
       "    </tr>\n",
       "  </thead>\n",
       "  <tbody>\n",
       "    <tr>\n",
       "      <th>0</th>\n",
       "      <td>163</td>\n",
       "      <td>Ramana Saigon Hotel</td>\n",
       "      <td>323 Le Van Sy Street, District 3</td>\n",
       "      <td>Ho Chi Minh City</td>\n",
       "      <td>Ho Chi Minh</td>\n",
       "      <td>296.0</td>\n",
       "      <td>1996.0</td>\n",
       "      <td>2015.0</td>\n",
       "      <td>1713</td>\n",
       "      <td>8.1</td>\n",
       "      <td>...</td>\n",
       "      <td>None</td>\n",
       "      <td>None</td>\n",
       "      <td>6.4</td>\n",
       "      <td>163</td>\n",
       "      <td>163</td>\n",
       "      <td>Hotel</td>\n",
       "      <td>Hotel</td>\n",
       "      <td>None</td>\n",
       "      <td>None</td>\n",
       "      <td>None</td>\n",
       "    </tr>\n",
       "    <tr>\n",
       "      <th>1</th>\n",
       "      <td>163</td>\n",
       "      <td>Ramana Saigon Hotel</td>\n",
       "      <td>323 Le Van Sy Street, District 3</td>\n",
       "      <td>Ho Chi Minh City</td>\n",
       "      <td>Ho Chi Minh</td>\n",
       "      <td>296.0</td>\n",
       "      <td>1996.0</td>\n",
       "      <td>2015.0</td>\n",
       "      <td>1713</td>\n",
       "      <td>8.1</td>\n",
       "      <td>...</td>\n",
       "      <td>None</td>\n",
       "      <td>None</td>\n",
       "      <td>7.6</td>\n",
       "      <td>163</td>\n",
       "      <td>163</td>\n",
       "      <td>Hotel</td>\n",
       "      <td>Hotel</td>\n",
       "      <td>None</td>\n",
       "      <td>None</td>\n",
       "      <td>None</td>\n",
       "    </tr>\n",
       "  </tbody>\n",
       "</table>\n",
       "<p>2 rows × 29 columns</p>\n",
       "</div>"
      ],
      "text/plain": [
       "    0                    1                                   2   \\\n",
       "0  163  Ramana Saigon Hotel  323 Le Van Sy Street, District 3     \n",
       "1  163  Ramana Saigon Hotel  323 Le Van Sy Street, District 3     \n",
       "\n",
       "                 3            4      5       6       7     8    9   ...    19  \\\n",
       "0  Ho Chi Minh City  Ho Chi Minh  296.0  1996.0  2015.0  1713  8.1  ...  None   \n",
       "1  Ho Chi Minh City  Ho Chi Minh  296.0  1996.0  2015.0  1713  8.1  ...  None   \n",
       "\n",
       "     20   21   22   23     24     25    26    27    28  \n",
       "0  None  6.4  163  163  Hotel  Hotel  None  None  None  \n",
       "1  None  7.6  163  163  Hotel  Hotel  None  None  None  \n",
       "\n",
       "[2 rows x 29 columns]"
      ]
     },
     "execution_count": 7,
     "metadata": {},
     "output_type": "execute_result"
    }
   ],
   "source": [
    "dataframeVisual(rows).head(2)"
   ]
  },
  {
   "cell_type": "markdown",
   "id": "a5106ccf-ed49-4084-b97a-df881f709f3a",
   "metadata": {},
   "source": [
    "## Drop the non-considering collumns"
   ]
  },
  {
   "cell_type": "code",
   "execution_count": 8,
   "id": "bad94625-f4a9-406c-ac44-d2ed0cbed265",
   "metadata": {},
   "outputs": [],
   "source": [
    "columns_to_drop = [11, 12, 15, 22, 23, 24]\n",
    "df.drop(df.columns[columns_to_drop], axis=1, inplace=True)"
   ]
  },
  {
   "cell_type": "markdown",
   "id": "4bb7256a-1aa4-47fe-87fd-d38ff0dd4671",
   "metadata": {},
   "source": [
    "## Rename the collumns"
   ]
  },
  {
   "cell_type": "code",
   "execution_count": 12,
   "id": "6d48a391-465a-480e-8c10-f9f93250c40f",
   "metadata": {},
   "outputs": [],
   "source": [
    "new_names = ['hotel_id', 'hotel_name', 'addressline1','city','state','numberrooms','yearopened','yearrenovated',\n",
    "             'number_of_reviews','rating_average','star_rating','national','groupname','staydetail','reviewtitle','comment','positive','negative','score',\n",
    "             'accommodationtype1','accommodationtype2','accommodationtype3','accommodationtype4']  # List of new names\n",
    "\n",
    "values = df.columns.to_list()\n",
    "\n",
    "# Creating a dictionary mapping values to new_names\n",
    "column_dict = dict(zip(values, new_names))\n",
    "\n",
    "# Rename the columns using index\n",
    "df.rename(columns=column_dict, inplace=True)"
   ]
  },
  {
   "cell_type": "code",
   "execution_count": 13,
   "id": "23734b00-1dde-4bce-966d-b37e32a4b5e5",
   "metadata": {},
   "outputs": [
    {
     "data": {
      "text/html": [
       "<div>\n",
       "<style scoped>\n",
       "    .dataframe tbody tr th:only-of-type {\n",
       "        vertical-align: middle;\n",
       "    }\n",
       "\n",
       "    .dataframe tbody tr th {\n",
       "        vertical-align: top;\n",
       "    }\n",
       "\n",
       "    .dataframe thead th {\n",
       "        text-align: right;\n",
       "    }\n",
       "</style>\n",
       "<table border=\"1\" class=\"dataframe\">\n",
       "  <thead>\n",
       "    <tr style=\"text-align: right;\">\n",
       "      <th></th>\n",
       "      <th>0</th>\n",
       "      <th>1</th>\n",
       "    </tr>\n",
       "  </thead>\n",
       "  <tbody>\n",
       "    <tr>\n",
       "      <th>hotel_id</th>\n",
       "      <td>163</td>\n",
       "      <td>163</td>\n",
       "    </tr>\n",
       "    <tr>\n",
       "      <th>hotel_name</th>\n",
       "      <td>Ramana Saigon Hotel</td>\n",
       "      <td>Ramana Saigon Hotel</td>\n",
       "    </tr>\n",
       "    <tr>\n",
       "      <th>addressline1</th>\n",
       "      <td>323 Le Van Sy Street, District 3</td>\n",
       "      <td>323 Le Van Sy Street, District 3</td>\n",
       "    </tr>\n",
       "    <tr>\n",
       "      <th>city</th>\n",
       "      <td>Ho Chi Minh City</td>\n",
       "      <td>Ho Chi Minh City</td>\n",
       "    </tr>\n",
       "    <tr>\n",
       "      <th>state</th>\n",
       "      <td>Ho Chi Minh</td>\n",
       "      <td>Ho Chi Minh</td>\n",
       "    </tr>\n",
       "    <tr>\n",
       "      <th>numberrooms</th>\n",
       "      <td>296.0</td>\n",
       "      <td>296.0</td>\n",
       "    </tr>\n",
       "    <tr>\n",
       "      <th>yearopened</th>\n",
       "      <td>1996.0</td>\n",
       "      <td>1996.0</td>\n",
       "    </tr>\n",
       "    <tr>\n",
       "      <th>yearrenovated</th>\n",
       "      <td>2015.0</td>\n",
       "      <td>2015.0</td>\n",
       "    </tr>\n",
       "    <tr>\n",
       "      <th>number_of_reviews</th>\n",
       "      <td>1713</td>\n",
       "      <td>1713</td>\n",
       "    </tr>\n",
       "    <tr>\n",
       "      <th>rating_average</th>\n",
       "      <td>8.1</td>\n",
       "      <td>8.1</td>\n",
       "    </tr>\n",
       "    <tr>\n",
       "      <th>star_rating</th>\n",
       "      <td>4.0</td>\n",
       "      <td>4.0</td>\n",
       "    </tr>\n",
       "    <tr>\n",
       "      <th>national</th>\n",
       "      <td>Singapore</td>\n",
       "      <td>Ấn Độ</td>\n",
       "    </tr>\n",
       "    <tr>\n",
       "      <th>groupname</th>\n",
       "      <td>Nhóm</td>\n",
       "      <td>Gia đình có trẻ em</td>\n",
       "    </tr>\n",
       "    <tr>\n",
       "      <th>staydetail</th>\n",
       "      <td>Đã ở 4 đêm vào Tháng 1 năm 2024</td>\n",
       "      <td>Đã ở 2 đêm vào Tháng 1 năm 2024</td>\n",
       "    </tr>\n",
       "    <tr>\n",
       "      <th>reviewtitle</th>\n",
       "      <td>HCM Short Trip”</td>\n",
       "      <td>Hospitality low ”</td>\n",
       "    </tr>\n",
       "    <tr>\n",
       "      <th>comment</th>\n",
       "      <td>A tourist class hotel with very basic amenitie...</td>\n",
       "      <td>The hotel rooms etc are good but very very sti...</td>\n",
       "    </tr>\n",
       "    <tr>\n",
       "      <th>positive</th>\n",
       "      <td>None</td>\n",
       "      <td>None</td>\n",
       "    </tr>\n",
       "    <tr>\n",
       "      <th>negative</th>\n",
       "      <td>None</td>\n",
       "      <td>None</td>\n",
       "    </tr>\n",
       "    <tr>\n",
       "      <th>score</th>\n",
       "      <td>6.4</td>\n",
       "      <td>7.6</td>\n",
       "    </tr>\n",
       "    <tr>\n",
       "      <th>accommodationtype1</th>\n",
       "      <td>Hotel</td>\n",
       "      <td>Hotel</td>\n",
       "    </tr>\n",
       "    <tr>\n",
       "      <th>accommodationtype2</th>\n",
       "      <td>None</td>\n",
       "      <td>None</td>\n",
       "    </tr>\n",
       "    <tr>\n",
       "      <th>accommodationtype3</th>\n",
       "      <td>None</td>\n",
       "      <td>None</td>\n",
       "    </tr>\n",
       "    <tr>\n",
       "      <th>accommodationtype4</th>\n",
       "      <td>None</td>\n",
       "      <td>None</td>\n",
       "    </tr>\n",
       "  </tbody>\n",
       "</table>\n",
       "</div>"
      ],
      "text/plain": [
       "                                                                    0  \\\n",
       "hotel_id                                                          163   \n",
       "hotel_name                                        Ramana Saigon Hotel   \n",
       "addressline1                       323 Le Van Sy Street, District 3     \n",
       "city                                                 Ho Chi Minh City   \n",
       "state                                                     Ho Chi Minh   \n",
       "numberrooms                                                     296.0   \n",
       "yearopened                                                     1996.0   \n",
       "yearrenovated                                                  2015.0   \n",
       "number_of_reviews                                                1713   \n",
       "rating_average                                                    8.1   \n",
       "star_rating                                                       4.0   \n",
       "national                                                    Singapore   \n",
       "groupname                                                        Nhóm   \n",
       "staydetail                            Đã ở 4 đêm vào Tháng 1 năm 2024   \n",
       "reviewtitle                                           HCM Short Trip”   \n",
       "comment             A tourist class hotel with very basic amenitie...   \n",
       "positive                                                         None   \n",
       "negative                                                         None   \n",
       "score                                                             6.4   \n",
       "accommodationtype1                                              Hotel   \n",
       "accommodationtype2                                               None   \n",
       "accommodationtype3                                               None   \n",
       "accommodationtype4                                               None   \n",
       "\n",
       "                                                                    1  \n",
       "hotel_id                                                          163  \n",
       "hotel_name                                        Ramana Saigon Hotel  \n",
       "addressline1                       323 Le Van Sy Street, District 3    \n",
       "city                                                 Ho Chi Minh City  \n",
       "state                                                     Ho Chi Minh  \n",
       "numberrooms                                                     296.0  \n",
       "yearopened                                                     1996.0  \n",
       "yearrenovated                                                  2015.0  \n",
       "number_of_reviews                                                1713  \n",
       "rating_average                                                    8.1  \n",
       "star_rating                                                       4.0  \n",
       "national                                                        Ấn Độ  \n",
       "groupname                                          Gia đình có trẻ em  \n",
       "staydetail                            Đã ở 2 đêm vào Tháng 1 năm 2024  \n",
       "reviewtitle                                         Hospitality low ”  \n",
       "comment             The hotel rooms etc are good but very very sti...  \n",
       "positive                                                         None  \n",
       "negative                                                         None  \n",
       "score                                                             7.6  \n",
       "accommodationtype1                                              Hotel  \n",
       "accommodationtype2                                               None  \n",
       "accommodationtype3                                               None  \n",
       "accommodationtype4                                               None  "
      ]
     },
     "execution_count": 13,
     "metadata": {},
     "output_type": "execute_result"
    }
   ],
   "source": [
    "df.head(2).T"
   ]
  },
  {
   "cell_type": "markdown",
   "id": "cf7db4bb-c8a0-4a60-b3b1-390d0b0e663b",
   "metadata": {},
   "source": [
    "## Save joined table"
   ]
  },
  {
   "cell_type": "code",
   "execution_count": 14,
   "id": "b422c723-8ea8-4153-b6ab-e5b465d09bd9",
   "metadata": {},
   "outputs": [],
   "source": [
    "df.to_csv('database/original_data.csv', index=False, encoding='utf-8-sig')"
   ]
  },
  {
   "cell_type": "code",
   "execution_count": null,
   "id": "0d860a7a-0320-4191-9efb-fc57ca7acec9",
   "metadata": {},
   "outputs": [],
   "source": []
  }
 ],
 "metadata": {
  "kernelspec": {
   "display_name": "Python 3 (ipykernel)",
   "language": "python",
   "name": "python3"
  },
  "language_info": {
   "codemirror_mode": {
    "name": "ipython",
    "version": 3
   },
   "file_extension": ".py",
   "mimetype": "text/x-python",
   "name": "python",
   "nbconvert_exporter": "python",
   "pygments_lexer": "ipython3",
   "version": "3.10.6"
  }
 },
 "nbformat": 4,
 "nbformat_minor": 5
}
